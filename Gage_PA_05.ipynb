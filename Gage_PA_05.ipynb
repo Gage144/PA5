{
  "cells": [
    {
      "cell_type": "markdown",
      "id": "940d65bc-011d-4762-8f7c-d628f2a81bcd",
      "metadata": {
        "id": "940d65bc-011d-4762-8f7c-d628f2a81bcd"
      },
      "source": [
        "# Programming Assignment #5"
      ]
    },
    {
      "cell_type": "markdown",
      "id": "60ccdfcc-83fa-4eb2-a3b7-9671f72157e8",
      "metadata": {
        "id": "60ccdfcc-83fa-4eb2-a3b7-9671f72157e8"
      },
      "source": [
        "## Association rule mining\n",
        "\n",
        "The market basket transactions dataset (transactions_data.txt)contains list of items purchased by customer in each transaction.\n",
        "\n",
        "- load the transaction dataset file\n",
        "- use minimum support = 0.2 and use_colname=True in apriori method\n",
        "- select metric as confidence in association rules\n",
        "- use minimum threshold = 0.5\n",
        "\n",
        "Ex: If the minimum support is 0.4, the metric is confidence and minimum threshold is 0.5 then some of the outputs are:\n",
        "- the least frequency of frequent 1-itemset is ['Queso'].\n",
        "- the support, confidence, and lift of rule, ['Queso'] -> ['Tortilla chips'] are:\n",
        "  - consequent support = 0.7\n",
        "  - support = 0.4\n",
        "  - confidence = 1.00\n",
        "  - lift = 1.42"
      ]
    },
    {
      "cell_type": "code",
      "execution_count": 1,
      "id": "eef59b37-5429-42b9-a45c-56ad45a7968c",
      "metadata": {
        "id": "eef59b37-5429-42b9-a45c-56ad45a7968c"
      },
      "outputs": [],
      "source": [
        "# Import the packages\n",
        "import numpy as np"
      ]
    },
    {
      "cell_type": "code",
      "execution_count": 3,
      "id": "caeaf8cd",
      "metadata": {
        "colab": {
          "base_uri": "https://localhost:8080/"
        },
        "id": "caeaf8cd",
        "outputId": "05f2871c-cf65-49d7-b34a-d8fe6c5a9555"
      },
      "outputs": [
        {
          "output_type": "stream",
          "name": "stdout",
          "text": [
            "[['Lime', 'Queso', 'Salsa', 'Salt', 'Tortilla chips'], ['Ranch dip', 'Salsa', 'Tortilla chips'], ['Queso', 'Tortilla chips'], ['Potato chips', 'Ranch dip'], ['Salsa', 'Tortilla chips'], ['Queso', 'Salsa', 'Tortilla chips'], ['Pita chips', 'Ranch dip'], ['Guacamole', 'Tortilla chips'], ['Guacamole', 'Queso', 'Salsa', 'Tortilla chips'], ['Pita chips', 'Salsa']]\n"
          ]
        }
      ],
      "source": [
        "def load_dataset(path_to_data):\n",
        "    transactions = []\n",
        "    with open(path_to_data, 'r') as fid:\n",
        "        for line in fid:\n",
        "            # Split each line by commas (or another delimiter if used in your file)\n",
        "            items = line.strip().split(',')\n",
        "            transactions.append(items)\n",
        "    return transactions\n",
        "\n",
        "path_to_data = \"transactions_data.txt\"\n",
        "dataset = load_dataset(path_to_data)\n",
        "print(dataset)  # To verify the data\n"
      ]
    },
    {
      "cell_type": "code",
      "execution_count": 5,
      "id": "1c4cadf3",
      "metadata": {
        "colab": {
          "base_uri": "https://localhost:8080/"
        },
        "id": "1c4cadf3",
        "outputId": "935c9331-7d68-46da-f061-c4f226183118"
      },
      "outputs": [
        {
          "output_type": "stream",
          "name": "stdout",
          "text": [
            "Requirement already satisfied: mlxtend in /usr/local/lib/python3.10/dist-packages (0.23.1)\n",
            "Requirement already satisfied: scipy>=1.2.1 in /usr/local/lib/python3.10/dist-packages (from mlxtend) (1.13.1)\n",
            "Requirement already satisfied: numpy>=1.16.2 in /usr/local/lib/python3.10/dist-packages (from mlxtend) (1.26.4)\n",
            "Requirement already satisfied: pandas>=0.24.2 in /usr/local/lib/python3.10/dist-packages (from mlxtend) (2.2.2)\n",
            "Requirement already satisfied: scikit-learn>=1.0.2 in /usr/local/lib/python3.10/dist-packages (from mlxtend) (1.5.2)\n",
            "Requirement already satisfied: matplotlib>=3.0.0 in /usr/local/lib/python3.10/dist-packages (from mlxtend) (3.8.0)\n",
            "Requirement already satisfied: joblib>=0.13.2 in /usr/local/lib/python3.10/dist-packages (from mlxtend) (1.4.2)\n",
            "Requirement already satisfied: contourpy>=1.0.1 in /usr/local/lib/python3.10/dist-packages (from matplotlib>=3.0.0->mlxtend) (1.3.0)\n",
            "Requirement already satisfied: cycler>=0.10 in /usr/local/lib/python3.10/dist-packages (from matplotlib>=3.0.0->mlxtend) (0.12.1)\n",
            "Requirement already satisfied: fonttools>=4.22.0 in /usr/local/lib/python3.10/dist-packages (from matplotlib>=3.0.0->mlxtend) (4.54.1)\n",
            "Requirement already satisfied: kiwisolver>=1.0.1 in /usr/local/lib/python3.10/dist-packages (from matplotlib>=3.0.0->mlxtend) (1.4.7)\n",
            "Requirement already satisfied: packaging>=20.0 in /usr/local/lib/python3.10/dist-packages (from matplotlib>=3.0.0->mlxtend) (24.1)\n",
            "Requirement already satisfied: pillow>=6.2.0 in /usr/local/lib/python3.10/dist-packages (from matplotlib>=3.0.0->mlxtend) (10.4.0)\n",
            "Requirement already satisfied: pyparsing>=2.3.1 in /usr/local/lib/python3.10/dist-packages (from matplotlib>=3.0.0->mlxtend) (3.2.0)\n",
            "Requirement already satisfied: python-dateutil>=2.7 in /usr/local/lib/python3.10/dist-packages (from matplotlib>=3.0.0->mlxtend) (2.8.2)\n",
            "Requirement already satisfied: pytz>=2020.1 in /usr/local/lib/python3.10/dist-packages (from pandas>=0.24.2->mlxtend) (2024.2)\n",
            "Requirement already satisfied: tzdata>=2022.7 in /usr/local/lib/python3.10/dist-packages (from pandas>=0.24.2->mlxtend) (2024.2)\n",
            "Requirement already satisfied: threadpoolctl>=3.1.0 in /usr/local/lib/python3.10/dist-packages (from scikit-learn>=1.0.2->mlxtend) (3.5.0)\n",
            "Requirement already satisfied: six>=1.5 in /usr/local/lib/python3.10/dist-packages (from python-dateutil>=2.7->matplotlib>=3.0.0->mlxtend) (1.16.0)\n",
            "Frequent Itemsets:\n",
            "    support                        itemsets\n",
            "0       0.2                     (Guacamole)\n",
            "1       0.2                    (Pita chips)\n",
            "2       0.4                         (Queso)\n",
            "3       0.3                     (Ranch dip)\n",
            "4       0.6                         (Salsa)\n",
            "5       0.7                (Tortilla chips)\n",
            "6       0.2     (Guacamole, Tortilla chips)\n",
            "7       0.3                  (Queso, Salsa)\n",
            "8       0.4         (Queso, Tortilla chips)\n",
            "9       0.5         (Tortilla chips, Salsa)\n",
            "10      0.3  (Queso, Tortilla chips, Salsa)\n",
            "\n",
            "Association Rules:\n",
            "                antecedents              consequents  antecedent support  \\\n",
            "0               (Guacamole)         (Tortilla chips)                 0.2   \n",
            "1                   (Queso)                  (Salsa)                 0.4   \n",
            "2                   (Salsa)                  (Queso)                 0.6   \n",
            "3                   (Queso)         (Tortilla chips)                 0.4   \n",
            "4          (Tortilla chips)                  (Queso)                 0.7   \n",
            "5          (Tortilla chips)                  (Salsa)                 0.7   \n",
            "6                   (Salsa)         (Tortilla chips)                 0.6   \n",
            "7   (Queso, Tortilla chips)                  (Salsa)                 0.4   \n",
            "8            (Queso, Salsa)         (Tortilla chips)                 0.3   \n",
            "9   (Tortilla chips, Salsa)                  (Queso)                 0.5   \n",
            "10                  (Queso)  (Tortilla chips, Salsa)                 0.4   \n",
            "11                  (Salsa)  (Queso, Tortilla chips)                 0.6   \n",
            "\n",
            "    consequent support  support  confidence      lift  leverage  conviction  \\\n",
            "0                  0.7      0.2    1.000000  1.428571      0.06         inf   \n",
            "1                  0.6      0.3    0.750000  1.250000      0.06         1.6   \n",
            "2                  0.4      0.3    0.500000  1.250000      0.06         1.2   \n",
            "3                  0.7      0.4    1.000000  1.428571      0.12         inf   \n",
            "4                  0.4      0.4    0.571429  1.428571      0.12         1.4   \n",
            "5                  0.6      0.5    0.714286  1.190476      0.08         1.4   \n",
            "6                  0.7      0.5    0.833333  1.190476      0.08         1.8   \n",
            "7                  0.6      0.3    0.750000  1.250000      0.06         1.6   \n",
            "8                  0.7      0.3    1.000000  1.428571      0.09         inf   \n",
            "9                  0.4      0.3    0.600000  1.500000      0.10         1.5   \n",
            "10                 0.5      0.3    0.750000  1.500000      0.10         2.0   \n",
            "11                 0.4      0.3    0.500000  1.250000      0.06         1.2   \n",
            "\n",
            "    zhangs_metric  \n",
            "0        0.375000  \n",
            "1        0.333333  \n",
            "2        0.500000  \n",
            "3        0.500000  \n",
            "4        1.000000  \n",
            "5        0.533333  \n",
            "6        0.400000  \n",
            "7        0.333333  \n",
            "8        0.428571  \n",
            "9        0.666667  \n",
            "10       0.555556  \n",
            "11       0.500000  \n"
          ]
        }
      ],
      "source": [
        "!pip install mlxtend\n",
        "import pandas as pd\n",
        "from mlxtend.preprocessing import TransactionEncoder\n",
        "from mlxtend.frequent_patterns import apriori, association_rules\n",
        "\n",
        "\n",
        "# Assuming 'dataset' is already loaded as in your previous code\n",
        "\n",
        "# Transform the data to a format suitable for the apriori function\n",
        "te = TransactionEncoder()\n",
        "te_ary = te.fit(dataset).transform(dataset)\n",
        "df = pd.DataFrame(te_ary, columns=te.columns_)\n",
        "\n",
        "# Apply the apriori algorithm\n",
        "frequent_itemsets = apriori(df, min_support=0.2, use_colnames=True)\n",
        "print(\"Frequent Itemsets:\")\n",
        "print(frequent_itemsets)\n",
        "\n",
        "# Generate the association rules\n",
        "rules = association_rules(frequent_itemsets, metric=\"confidence\", min_threshold=0.5)\n",
        "print(\"\\nAssociation Rules:\")\n",
        "print(rules)"
      ]
    },
    {
      "cell_type": "code",
      "execution_count": null,
      "id": "81071e13-02cb-40f2-8210-5e420bf572ef",
      "metadata": {
        "id": "81071e13-02cb-40f2-8210-5e420bf572ef"
      },
      "outputs": [],
      "source": []
    }
  ],
  "metadata": {
    "kernelspec": {
      "display_name": "Python 3 (ipykernel)",
      "language": "python",
      "name": "python3"
    },
    "language_info": {
      "codemirror_mode": {
        "name": "ipython",
        "version": 3
      },
      "file_extension": ".py",
      "mimetype": "text/x-python",
      "name": "python",
      "nbconvert_exporter": "python",
      "pygments_lexer": "ipython3",
      "version": "3.12.4"
    },
    "colab": {
      "provenance": []
    }
  },
  "nbformat": 4,
  "nbformat_minor": 5
}